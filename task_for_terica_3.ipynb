{
  "nbformat": 4,
  "nbformat_minor": 0,
  "metadata": {
    "colab": {
      "name": "task_for_terica_3.ipynb",
      "provenance": [],
      "collapsed_sections": []
    },
    "kernelspec": {
      "name": "python3",
      "display_name": "Python 3"
    }
  },
  "cells": [
    {
      "cell_type": "code",
      "metadata": {
        "id": "QLZn3ebEjqoH",
        "colab_type": "code",
        "colab": {}
      },
      "source": [
        "'''\n",
        "Проверяем по id учитель это или ученик\n",
        "(Реализация данной фугкции подразумевает обязательное наличие учителя на занятии)\n",
        "'''\n",
        "\n",
        "def is_tutor(b):  \n",
        "  global users\n",
        "  for i in users.iterrows():\n",
        "    if i[0] > 0 and i[0] < 379:\n",
        "      str_id = str(users['                  id                  '][i[0]])[1:-1]\n",
        "      if str_id == b and users[' role  '][i[0]] == ' tutor':\n",
        "        return True\n",
        "  return False\n",
        "\n",
        "\n",
        "'''\n",
        "Перевод часовой зоны основан на том, что мы уверены, что все наши уроки лежат в одном месяце\n",
        "'''\n",
        "\n",
        "def rigth_time(a):\n",
        "  for i in a.iterrows():\n",
        "    if i[0] > 0 and i[0] < 379:\n",
        "      s = a['       scheduled_time       '][i[0]]\n",
        "      s1 = s[9:11] \n",
        "      s2 = s[12:14]\n",
        "      try:\n",
        "        s2 = int(s2)\n",
        "        if s2 >= 3:\n",
        "          a['       scheduled_time       '][i[0]] = int(s1)\n",
        "        else:\n",
        "          a['       scheduled_time       '][i[0]] = int(s1)-1\n",
        "      except:\n",
        "        print('Какие-то проблемы с переводом времени')\n",
        "\n",
        "\n",
        "\n",
        "'''\n",
        "По event_id находим все участников занятия\n",
        "'''\n",
        "\n",
        "def all_participants(event_id):\n",
        "  global participants\n",
        "  a = participants[participants[' event_id '] == event_id]\n",
        "  all = []\n",
        "  for i in participants.iterrows():\n",
        "    if i[0]>0 and i[0]< 379 and int(participants[' event_id '][i[0]]) == int(event_id):\n",
        "      all.append(participants['               user_id                '][i[0]])\n",
        "  return all\n",
        "\n",
        "\n",
        "'''\n",
        "Необходимо по заданному идентификатору урока найти отмети за данный урок\n",
        "'''\n",
        "\n",
        "def all_marks_for_lessons(lesson_id):  \n",
        "  global quality \n",
        "  res = []\n",
        "  a = quality[quality['              lesson_id               '] == lesson_id]\n",
        "  for i in a.iterrows():\n",
        "    if i[0] > 0 and i[0] < 379:\n",
        "      if a[' tech_quality '][i[0]] != None:\n",
        "        res.append(a[' tech_quality '][i[0]])\n",
        "  return res\n",
        "\n"
      ],
      "execution_count": 8,
      "outputs": []
    },
    {
      "cell_type": "code",
      "metadata": {
        "id": "C2CPmoKAK5Zn",
        "colab_type": "code",
        "colab": {
          "base_uri": "https://localhost:8080/",
          "height": 104
        },
        "outputId": "49aa349e-488f-4936-9887-110f7b04b56c"
      },
      "source": [
        "import pandas as pd\n",
        "\n",
        "\n",
        "\n",
        "# Импортируем библиотеки и читаем файлы\n",
        "lessons = pd.read_table('lessons.txt', sep = '|')\n",
        "participants = pd.read_table('participants.txt', sep = '|')\n",
        "quality = pd.read_table('quality.txt', sep = '|')\n",
        "users = pd.read_table('users.txt', sep = '|')\n",
        "\n",
        "\n",
        "d = dict() \n",
        "''' В данном словаре в каачестве ключей будут лежать даты, а в качесте значений дикт2,\n",
        "           в котром ключи- учителя, а значения - массив с их отметками '''\n",
        "\n",
        "\n",
        "rigth_time(lessons) # приводим к правильному времени\n",
        "lessons = lessons[lessons[' subject '] == ' phys    '] # отбираем нужные уроки\n",
        "for i in users.iterrows():\n",
        "  if i[0] > 0 and i[0] < 379:\n",
        "    users['                  id                  '][i[0]].replace(' ','')\n"
      ],
      "execution_count": 9,
      "outputs": [
        {
          "output_type": "stream",
          "text": [
            "/usr/local/lib/python3.6/dist-packages/ipykernel_launcher.py:29: SettingWithCopyWarning: \n",
            "A value is trying to be set on a copy of a slice from a DataFrame\n",
            "\n",
            "See the caveats in the documentation: https://pandas.pydata.org/pandas-docs/stable/user_guide/indexing.html#returning-a-view-versus-a-copy\n"
          ],
          "name": "stderr"
        }
      ]
    },
    {
      "cell_type": "code",
      "metadata": {
        "id": "8Xje63znRwZh",
        "colab_type": "code",
        "colab": {
          "base_uri": "https://localhost:8080/",
          "height": 185
        },
        "outputId": "5756073c-733f-41aa-f10a-37d1f6546ac1"
      },
      "source": [
        "for i in lessons.iterrows():\n",
        "  if i[0] > 0 and i[0] < 379:\n",
        "    id = lessons['                  id                  '][i[0]]\n",
        "    event_id = str(int(lessons[' event_id '][i[0]]))\n",
        "    data = lessons['       scheduled_time       '][i[0]]\n",
        "    all_par = all_participants(event_id)\n",
        "    for ii in all_par:\n",
        "      ii = ii[1:]\n",
        "      if is_tutor(ii):\n",
        "        tutor = ii\n",
        "        res_for_less = all_marks_for_lessons(id)\n",
        "        if data not in d:\n",
        "          d[data] = dict()\n",
        "        if tutor not in d[data]:\n",
        "          d[data][tutor] = []\n",
        "        for jj in res_for_less:\n",
        "          try:\n",
        "            jj.replace(' ','')\n",
        "            if len(jj) > 0:\n",
        "              d[data][tutor].append(int(jj))\n",
        "          except:\n",
        "            pass\n",
        "\n",
        "\n",
        "\n",
        "\n",
        "for i in d:\n",
        "  min = 999\n",
        "  for j in d[i]:\n",
        "    res = 0\n",
        "    n = 0\n",
        "    for ii in d[i][j]:\n",
        "      res += int(ii)\n",
        "      n += 1\n",
        "    if n != 0:\n",
        "      d[i][j] = res / n\n",
        "    else:\n",
        "      d[i][j] = 999\n",
        "    if d[i][j] < min:\n",
        "      min = d[i][j]\n",
        "      teacher = j\n",
        "  if min != 999:\n",
        "    print('2020-01-' + str(i) +  ' ' + str(teacher) +' ' + str(min*10000//100/100) )\n",
        "  else:\n",
        "    print('2020-01-' + str(i) + ' ' + str(teacher) + ' 0')\n"
      ],
      "execution_count": 10,
      "outputs": [
        {
          "output_type": "stream",
          "text": [
            "2020-01-19 696c838e-c054-4e9f-a51a-50bf5660f364 4.83\n",
            "2020-01-17 30a19496-bdaf-461c-abbc-2709ae520201 5.0\n",
            "2020-01-20 43efce48-94b2-4412-857f-223d45969008 4.5\n",
            "2020-01-11 8fe03f08-8581-430c-a590-9888ab36deb3 4.42\n",
            "2020-01-14 c6718d0e-976c-4d6c-b0e0-32c770776567 4.0\n",
            "2020-01-12 696c838e-c054-4e9f-a51a-50bf5660f364 4.88\n",
            "2020-01-13 696c838e-c054-4e9f-a51a-50bf5660f364 5.0\n",
            "2020-01-16 696c838e-c054-4e9f-a51a-50bf5660f364 0\n",
            "2020-01-15 b37ccae8-fc31-4ad8-8f55-ca855b23fbf6 5.0\n",
            "2020-01-18 603b8641-c6f6-4d89-ac89-88e50d45aa0d 4.5\n"
          ],
          "name": "stdout"
        }
      ]
    }
  ]
}