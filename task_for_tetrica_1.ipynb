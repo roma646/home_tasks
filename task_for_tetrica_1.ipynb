{
  "nbformat": 4,
  "nbformat_minor": 0,
  "metadata": {
    "colab": {
      "name": "task_for_tetrica_1.ipynb",
      "provenance": [],
      "collapsed_sections": []
    },
    "kernelspec": {
      "name": "python3",
      "display_name": "Python 3"
    }
  },
  "cells": [
    {
      "cell_type": "code",
      "metadata": {
        "id": "e2t0kiGDLbsK",
        "colab_type": "code",
        "colab": {
          "base_uri": "https://localhost:8080/",
          "height": 67
        },
        "outputId": "bf7b86c0-9c53-4f0a-e1c3-b28048dcdb28"
      },
      "source": [
        "import pandas as pd\n",
        "\n",
        "with open ('names.txt', 'r') as fi:\n",
        "  names = (fi.read().split(','))\n",
        "\n",
        "names.sort()\n",
        "sum = 0\n",
        "s = ' ABCDEFGHIGKLMNOPQRSTUVWXYZ'\n",
        "res = []\n",
        "\n",
        "\n",
        "for i in range(len(names)):\n",
        "  aa = 0\n",
        "  for j in names[i]:\n",
        "    if s.find(j) != -1:\n",
        "      aa += s.find(j)\n",
        "  res.append(aa * (i+1))\n",
        "  sum += aa * (i+1)\n",
        "\n",
        "\n",
        "print(sum)\n",
        "\n",
        "\n",
        "\n",
        "\n",
        "\n"
      ],
      "execution_count": 14,
      "outputs": [
        {
          "output_type": "stream",
          "text": [
            "\"ABBY\"\n",
            "120\n",
            "863277354\n"
          ],
          "name": "stdout"
        }
      ]
    },
    {
      "cell_type": "code",
      "metadata": {
        "id": "x4Q6xMqUP7Ct",
        "colab_type": "code",
        "colab": {}
      },
      "source": [
        ""
      ],
      "execution_count": null,
      "outputs": []
    }
  ]
}