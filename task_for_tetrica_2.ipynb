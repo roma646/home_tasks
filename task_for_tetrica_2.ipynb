{
  "nbformat": 4,
  "nbformat_minor": 0,
  "metadata": {
    "colab": {
      "name": "task_for_tetrica_2.ipynb",
      "provenance": [],
      "collapsed_sections": []
    },
    "kernelspec": {
      "name": "python3",
      "display_name": "Python 3"
    }
  },
  "cells": [
    {
      "cell_type": "code",
      "metadata": {
        "id": "BjotSnueSOqU",
        "colab_type": "code",
        "colab": {
          "base_uri": "https://localhost:8080/",
          "height": 101
        },
        "outputId": "28821aa9-dcc1-4c27-8a5d-b7c0b8914d74"
      },
      "source": [
        "import re\n",
        "\n",
        "s = r\"\\d{0,3}[.]\\d{0,3}[.]\\d{0,3}[.]\\d{0,3}\"\n",
        "\n",
        "with open ('hits.txt','r') as fi:\n",
        "  fil = str(fi.read())\n",
        "\n",
        "a = re.findall(s, fil)\n",
        "d = dict()\n",
        "res = []\n",
        "\n",
        "for i in a:\n",
        "  if i in d:\n",
        "    d[i] += 1\n",
        "  else:\n",
        "    d[i] = 1\n",
        "\n",
        "for i in d:\n",
        "  res.append([i, d[i]])\n",
        "\n",
        "res.sort(key= lambda x: x[1])\n",
        "res = res[::-1]\n",
        "\n",
        "for i in res[:5]:\n",
        "  print(i[0])"
      ],
      "execution_count": 6,
      "outputs": [
        {
          "output_type": "stream",
          "text": [
            "154.157.157.156\n",
            "238.244.2.48\n",
            "194.78.107.33\n",
            "82.146.232.163\n",
            "226.247.119.128\n"
          ],
          "name": "stdout"
        }
      ]
    },
    {
      "cell_type": "code",
      "metadata": {
        "id": "ctX-f7bkVX-U",
        "colab_type": "code",
        "colab": {}
      },
      "source": [
        ""
      ],
      "execution_count": null,
      "outputs": []
    }
  ]
}